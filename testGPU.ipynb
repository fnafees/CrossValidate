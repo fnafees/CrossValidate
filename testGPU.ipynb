{
 "cells": [
  {
   "cell_type": "code",
   "execution_count": 1,
   "metadata": {},
   "outputs": [],
   "source": [
    "import lightgbm as lgb\n",
    "import numpy as np # linear algebra\n",
    "import pandas as pd \n",
    "from pytorch_tabular.models import *\n",
    "from pytorch_tabular.config import (\n",
    "    DataConfig, \n",
    "    OptimizerConfig,\n",
    "    TrainerConfig,\n",
    ")\n",
    "from sklearn.model_selection import cross_validate # allows multiple metrics \n",
    "import seaborn as sns\n",
    "from pytorch_tabular import TabularModel\n",
    "from sklearn.model_selection import StratifiedKFold\n",
    "from sklearn.metrics import *"
   ]
  },
  {
   "cell_type": "code",
   "execution_count": 2,
   "metadata": {},
   "outputs": [],
   "source": [
    "X = pd.read_csv(\"../X_with_Ids.csv\")\n",
    "y = pd.read_csv(\"../y_for_XwithIds.csv\", index_col=False)\n",
    "X.drop(\"ProteinID\", inplace=True, axis = 1)"
   ]
  },
  {
   "cell_type": "code",
   "execution_count": 3,
   "metadata": {},
   "outputs": [],
   "source": [
    "def F1_max_calc(y_true, y_proba1):\n",
    "    precision, recall, thresholds = precision_recall_curve(y_true, y_proba1)\n",
    "    numerator = 2 * recall * precision\n",
    "    denom = recall + precision\n",
    "    f1_scores = np.divide(numerator, denom, out=np.zeros_like(denom), where=(denom!=0))\n",
    "    max_f1 = np.max(f1_scores)\n",
    "    # max_f1_thresh = thresholds[np.argmax(f1_scores)]\n",
    "    return max_f1\n",
    "\n",
    "def APS_calc(y_true, y_pred):\n",
    "    return average_precision_score(y_true, y_pred)\n",
    "\n",
    "def AUC_calc(y_true, y_pred):\n",
    "    return roc_auc_score(y_true, y_pred)"
   ]
  },
  {
   "cell_type": "code",
   "execution_count": 4,
   "metadata": {},
   "outputs": [],
   "source": [
    "data_config = DataConfig(\n",
    "    target=[\"Target\"],\n",
    "    continuous_cols= X.columns.to_list()\n",
    "    )\n",
    "\n",
    "trainer_config = TrainerConfig(\n",
    "        # Lowered batch size from 1024 for FTTransformer\n",
    "        batch_size=1024,\n",
    "        max_epochs=20,\n",
    "    )\n",
    "optimizer_config = OptimizerConfig()\n",
    "\n",
    "gandalf_config = GANDALFConfig(\n",
    "        task=\"classification\"\n",
    "    )\n",
    "gandalf = TabularModel(\n",
    "        data_config=data_config,\n",
    "        model_config=gandalf_config,\n",
    "        optimizer_config=optimizer_config,\n",
    "        trainer_config=trainer_config,\n",
    "        verbose=False\n",
    "    )"
   ]
  },
  {
   "cell_type": "code",
   "execution_count": 5,
   "metadata": {},
   "outputs": [],
   "source": [
    "LGBMModel = lgb.LGBMClassifier()"
   ]
  },
  {
   "cell_type": "code",
   "execution_count": 52,
   "metadata": {},
   "outputs": [],
   "source": [
    "models = ((LGBMModel, \"LGBM\"), (gandalf, \"gandalf\"))\n",
    "kf = StratifiedKFold(n_splits=10)\n",
    "\n",
    "the_split = kf.split(X, y)\n",
    "datamodule = None\n",
    "currentModel = None"
   ]
  },
  {
   "cell_type": "code",
   "execution_count": 30,
   "metadata": {},
   "outputs": [],
   "source": [
    "for train_index, val_index in the_split:\n",
    "    X_train, X_val = X.iloc[train_index], X.iloc[val_index]\n",
    "    y_train, y_val = y.iloc[train_index], y.iloc[val_index]\n",
    "    print(X_train.head())"
   ]
  },
  {
   "cell_type": "code",
   "execution_count": 63,
   "metadata": {},
   "outputs": [],
   "source": [
    "def cross_validate(model, name):\n",
    "    datamodule = None\n",
    "    f1_metrics = []\n",
    "    aps_metrics = []\n",
    "    auc_metrics = []\n",
    "    scores = {}\n",
    "    for train_index, val_index in the_split:\n",
    "        X_train, X_val = X.iloc[train_index], X.iloc[val_index]\n",
    "        y_train, y_val = y.iloc[train_index], y.iloc[val_index]\n",
    "        y_pred = []\n",
    "        if name == \"LGBM\":\n",
    "            model.fit(X_train, y_train)\n",
    "            y_pred = model.predict(X_val)\n",
    "        else:\n",
    "            if datamodule is None:\n",
    "                # Initialize datamodule and model in the first fold\n",
    "                # uses train data from this fold to fit all transformers\n",
    "                datamodule = model.prepare_dataloader(train=X_train, validation=X_val)\n",
    "                currentModel = model.prepare_model(datamodule)\n",
    "            else:\n",
    "                datamodule = datamodule.copy(train=X_train, validation=X_val)\n",
    "            model.train(currentModel, datamodule)\n",
    "            y_pred = model.predict()\n",
    "        f1stats = F1_max_calc(y_val, y_pred)\n",
    "        print(\"f1 stats:\", f1stats)\n",
    "        f1_metrics.append(F1_max_calc(y_val, y_pred))\n",
    "        aps_metrics.append(APS_calc(y_val, y_pred))\n",
    "        auc_metrics.append(AUC_calc(y_val, y_pred))\n",
    "    scores[\"f1\"] = f1_metrics\n",
    "    scores[\"aps\"] = aps_metrics\n",
    "    scores[\"auc\"] = auc_metrics\n",
    "    return scores"
   ]
  },
  {
   "cell_type": "code",
   "execution_count": 64,
   "metadata": {},
   "outputs": [
    {
     "name": "stdout",
     "output_type": "stream",
     "text": [
      "LGBM\n",
      "{'f1': [], 'aps': [], 'auc': []}\n",
      "gandalf\n",
      "{'f1': [], 'aps': [], 'auc': []}\n"
     ]
    }
   ],
   "source": [
    "for (model, name) in models:\n",
    "    print(name)\n",
    "    results = cross_validate(model, name)\n",
    "    print(results)"
   ]
  }
 ],
 "metadata": {
  "kernelspec": {
   "display_name": ".venv",
   "language": "python",
   "name": "python3"
  },
  "language_info": {
   "codemirror_mode": {
    "name": "ipython",
    "version": 3
   },
   "file_extension": ".py",
   "mimetype": "text/x-python",
   "name": "python",
   "nbconvert_exporter": "python",
   "pygments_lexer": "ipython3",
   "version": "3.9.19"
  }
 },
 "nbformat": 4,
 "nbformat_minor": 2
}
